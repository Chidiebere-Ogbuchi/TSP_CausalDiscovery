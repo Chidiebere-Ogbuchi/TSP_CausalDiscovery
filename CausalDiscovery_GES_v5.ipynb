{
  "cells": [
    {
      "cell_type": "markdown",
      "metadata": {
        "id": "view-in-github",
        "colab_type": "text"
      },
      "source": [
        "<a href=\"https://colab.research.google.com/github/Chidiebere-Ogbuchi/TSP_CausalDiscovery/blob/main/CausalDiscovery_GES_v5.ipynb\" target=\"_parent\"><img src=\"https://colab.research.google.com/assets/colab-badge.svg\" alt=\"Open In Colab\"/></a>"
      ]
    },
    {
      "cell_type": "markdown",
      "metadata": {
        "id": "LAny3O8UYCRW"
      },
      "source": [
        "### CAUSAL DISCOVERY - Greedy Equivalence Search\n",
        " * This notebook is used for testing the GES with the BIC score or generalized score for Causal Discovery using Py-Why\n",
        " * The  Algorithm is a Score-Based Algorithm method for inferring causal relationships from observational data.\n",
        " * It is commonly used in the field of causal inference and can help identify cause-effect relationships between variables in a dataset.\n",
        " * For more information on the Peter-Clark Algorithm and how to get started with causal inference, please refer to the documentation at: [https://causal-learn.readthedocs.io/en/latest/getting_started.html](https://causal-learn.readthedocs.io/en/latest/getting_started.html)\n"
      ]
    },
    {
      "cell_type": "code",
      "execution_count": null,
      "metadata": {
        "colab": {
          "base_uri": "https://localhost:8080/"
        },
        "id": "ilrG1XszMvQ0",
        "outputId": "62d0d476-5a9f-483c-b802-4865576e56ca"
      },
      "outputs": [
        {
          "output_type": "stream",
          "name": "stdout",
          "text": [
            "Requirement already satisfied: numpy in /usr/local/lib/python3.10/dist-packages (from -r requirement.txt (line 1)) (1.25.2)\n",
            "Requirement already satisfied: networkx in /usr/local/lib/python3.10/dist-packages (from -r requirement.txt (line 2)) (3.2.1)\n",
            "Requirement already satisfied: pandas in /usr/local/lib/python3.10/dist-packages (from -r requirement.txt (line 3)) (1.5.3)\n",
            "Requirement already satisfied: scipy in /usr/local/lib/python3.10/dist-packages (from -r requirement.txt (line 4)) (1.11.4)\n",
            "Requirement already satisfied: scikit-learn in /usr/local/lib/python3.10/dist-packages (from -r requirement.txt (line 5)) (1.2.2)\n",
            "Requirement already satisfied: statsmodels in /usr/local/lib/python3.10/dist-packages (from -r requirement.txt (line 6)) (0.14.1)\n",
            "Requirement already satisfied: pydot in /usr/local/lib/python3.10/dist-packages (from -r requirement.txt (line 7)) (1.4.2)\n",
            "Requirement already satisfied: matplotlib in /usr/local/lib/python3.10/dist-packages (from -r requirement.txt (line 8)) (3.7.1)\n",
            "Requirement already satisfied: graphviz in /usr/local/lib/python3.10/dist-packages (from -r requirement.txt (line 9)) (0.20.1)\n",
            "Requirement already satisfied: causal-learn in /usr/local/lib/python3.10/dist-packages (from -r requirement.txt (line 10)) (0.1.3.8)\n",
            "Requirement already satisfied: python-dateutil>=2.8.1 in /usr/local/lib/python3.10/dist-packages (from pandas->-r requirement.txt (line 3)) (2.8.2)\n",
            "Requirement already satisfied: pytz>=2020.1 in /usr/local/lib/python3.10/dist-packages (from pandas->-r requirement.txt (line 3)) (2023.4)\n",
            "Requirement already satisfied: joblib>=1.1.1 in /usr/local/lib/python3.10/dist-packages (from scikit-learn->-r requirement.txt (line 5)) (1.3.2)\n",
            "Requirement already satisfied: threadpoolctl>=2.0.0 in /usr/local/lib/python3.10/dist-packages (from scikit-learn->-r requirement.txt (line 5)) (3.3.0)\n",
            "Requirement already satisfied: patsy>=0.5.4 in /usr/local/lib/python3.10/dist-packages (from statsmodels->-r requirement.txt (line 6)) (0.5.6)\n",
            "Requirement already satisfied: packaging>=21.3 in /usr/local/lib/python3.10/dist-packages (from statsmodels->-r requirement.txt (line 6)) (24.0)\n",
            "Requirement already satisfied: pyparsing>=2.1.4 in /usr/local/lib/python3.10/dist-packages (from pydot->-r requirement.txt (line 7)) (3.1.2)\n",
            "Requirement already satisfied: contourpy>=1.0.1 in /usr/local/lib/python3.10/dist-packages (from matplotlib->-r requirement.txt (line 8)) (1.2.0)\n",
            "Requirement already satisfied: cycler>=0.10 in /usr/local/lib/python3.10/dist-packages (from matplotlib->-r requirement.txt (line 8)) (0.12.1)\n",
            "Requirement already satisfied: fonttools>=4.22.0 in /usr/local/lib/python3.10/dist-packages (from matplotlib->-r requirement.txt (line 8)) (4.49.0)\n",
            "Requirement already satisfied: kiwisolver>=1.0.1 in /usr/local/lib/python3.10/dist-packages (from matplotlib->-r requirement.txt (line 8)) (1.4.5)\n",
            "Requirement already satisfied: pillow>=6.2.0 in /usr/local/lib/python3.10/dist-packages (from matplotlib->-r requirement.txt (line 8)) (9.4.0)\n",
            "Requirement already satisfied: tqdm in /usr/local/lib/python3.10/dist-packages (from causal-learn->-r requirement.txt (line 10)) (4.66.2)\n",
            "Requirement already satisfied: six in /usr/local/lib/python3.10/dist-packages (from patsy>=0.5.4->statsmodels->-r requirement.txt (line 6)) (1.16.0)\n"
          ]
        }
      ],
      "source": [
        "!pip install -r requirement.txt"
      ]
    },
    {
      "cell_type": "code",
      "execution_count": null,
      "metadata": {
        "id": "QzYMTmlBuuaJ"
      },
      "outputs": [],
      "source": [
        "import os, time\n",
        "import sys\n",
        "sys.path.append(\"\")\n",
        "import unittest\n",
        "import hashlib\n",
        "import numpy as np\n",
        "from causallearn.search.ConstraintBased.PC import pc\n",
        "from causallearn.utils.cit import chisq, fisherz, gsq, kci, mv_fisherz, d_separation\n",
        "from causallearn.graph.SHD import SHD\n",
        "from causallearn.utils.DAG2CPDAG import dag2cpdag\n",
        "from causallearn.utils.TXT2GeneralGraph import txt2generalgraph\n",
        "import networkx as nx\n",
        "import matplotlib.pyplot as plt\n",
        "import pandas as pd\n",
        "import pickle\n",
        "from causallearn.search.ScoreBased.GES import ges\n",
        "from causallearn.score.LocalScoreFunction import local_score_BIC\n",
        "import io\n",
        "import matplotlib.image as mpimg\n",
        "# from .utils_simulate_data import simulate_discrete_data, simulate_linear_continuous_data\n",
        "\n",
        "# or save the graph\n",
        "from causallearn.utils.GraphUtils import GraphUtils\n",
        "\n",
        "from causallearn.search.ConstraintBased.PC import pc"
      ]
    },
    {
      "cell_type": "markdown",
      "metadata": {
        "id": "ucP5Q4qSYCRc"
      },
      "source": [
        "### LOADING DATASET"
      ]
    },
    {
      "cell_type": "code",
      "execution_count": null,
      "metadata": {
        "id": "zE0yLml0uuXp"
      },
      "outputs": [],
      "source": [
        "# Load data\n",
        "def load_data_save_to_txt():\n",
        "    \"\"\"\n",
        "    Load data from either a pickle file or a CSV file and save it to a text file.\n",
        "\n",
        "    Returns:\n",
        "        pandas.DataFrame: The loaded data.\n",
        "    \"\"\"\n",
        "    pickle_file_path = \"./data/output.p\"\n",
        "    csv_file_path = \"./data/output.csv\"\n",
        "    txt_file_path = './data/output.txt'\n",
        "\n",
        "    if os.path.exists(pickle_file_path):\n",
        "        df = pd.read_pickle(pickle_file_path)\n",
        "    else:\n",
        "        df = pd.read_csv(csv_file_path)\n",
        "        df.to_pickle(pickle_file_path, protocol=pickle.HIGHEST_PROTOCOL)\n",
        "\n",
        "    df.to_csv(txt_file_path, sep='\\t', index=False)\n",
        "\n",
        "    return df\n"
      ]
    },
    {
      "cell_type": "code",
      "execution_count": null,
      "metadata": {
        "id": "eZOkclwSDXaY"
      },
      "outputs": [],
      "source": [
        "# View the first few rows of the data\n",
        "try:\n",
        "    df = load_data_save_to_txt()\n",
        "    df.head()\n",
        "except Exception as e:\n",
        "    print(f\"Csv or Pickle file not found\")\n"
      ]
    },
    {
      "cell_type": "code",
      "execution_count": null,
      "metadata": {
        "id": "Ac6q6GPOypSu"
      },
      "outputs": [],
      "source": [
        "## Load data for Causal Discovery from a txt file\n",
        "def load_txt_dag_data(data_path, num_rows):\n",
        "    \"\"\"\n",
        "    Load data from a text file.\n",
        "\n",
        "    Args:\n",
        "        data_path (str): Path to the data file.\n",
        "        num_rows (int): Number of rows to load from the data file. If None, all rows will be loaded.\n",
        "\n",
        "    Returns:\n",
        "        numpy.ndarray: The loaded data as a numpy array.\n",
        "    \"\"\"\n",
        "    full_data = np.loadtxt(data_path, skiprows=1)\n",
        "\n",
        "    # Randomly select num_rows rows\n",
        "    if num_rows is not None:\n",
        "        indices = np.random.choice(full_data.shape[0], num_rows, replace=False)\n",
        "        data = full_data[indices, :]\n",
        "    else:\n",
        "        data = full_data\n",
        "\n",
        "    return data\n",
        "\n",
        "## Load Ground Truth Directed Acyclic Graph (DAG)\n",
        "def load_truth_dag(truth_graph_path):\n",
        "    \"\"\"\n",
        "    Load the ground truth directed acyclic graph (DAG) from a text file.\n",
        "\n",
        "    Args:\n",
        "        truth_graph_path (str): Path to the truth graph file.\n",
        "\n",
        "    Returns:\n",
        "        Graph: The loaded truth DAG.\n",
        "    \"\"\"\n",
        "\n",
        "    truth_dag = txt2generalgraph(truth_graph_path)\n",
        "    return truth_dag\n",
        "\n",
        "# Usage example:\n",
        "# Load data\n",
        "data_path = \"./data/output.txt\"   # \"output.txt\"\n",
        "truth_graph_path = \"./data/graph.10.txt\"\n",
        "num_rows = None #select number of rows to load or None\n",
        "\n",
        "data = load_txt_dag_data(data_path, num_rows)"
      ]
    },
    {
      "cell_type": "code",
      "source": [
        "# txt_file_path = 'your_file.txt'\n",
        "\n",
        "# Read the first line of the text file\n",
        "with open(data_path, 'r') as file:\n",
        "    first_line = file.readline().strip()  # Read the first line and remove leading/trailing whitespace\n",
        "\n",
        "# Assuming the header is separated by commas, split the line based on the delimiter\n",
        "header = first_line.split('\\t')\n",
        "\n",
        "# Print or use the header\n",
        "print(header)\n"
      ],
      "metadata": {
        "colab": {
          "base_uri": "https://localhost:8080/"
        },
        "id": "x25F6JkKkwNq",
        "outputId": "9ef5f96d-0196-4047-9fde-1c930c277268"
      },
      "execution_count": null,
      "outputs": [
        {
          "output_type": "stream",
          "name": "stdout",
          "text": [
            "['bandwidth', 'responsetime', 'visitors']\n"
          ]
        }
      ]
    },
    {
      "cell_type": "markdown",
      "metadata": {
        "id": "nNJdVnipYCRe"
      },
      "source": [
        "### RUNNING ALGORITHM"
      ]
    },
    {
      "cell_type": "code",
      "execution_count": null,
      "metadata": {
        "id": "Y0iXRpLjYCRe"
      },
      "outputs": [],
      "source": [
        "from causallearn.search.ScoreBased.GES import ges\n",
        "\n",
        "def run_ges(data, score_func=\"local_score_BIC\", maxP=3, parameters={\"kfold\": 5, \"lambda\": 0.1, \"dlabel\": None}):\n",
        "    \"\"\"\n",
        "    Run the GES algorithm for causal discovery.\n",
        "\n",
        "    Parameters:\n",
        "    - data: The input data for causal discovery.\n",
        "    - score_func: The score function to be used for evaluating the quality of causal graphs. Default is \"local_score_BIC\".\n",
        "        # “local_score_BIC”: BIC score 3.\n",
        "        # “local_score_BDeu”: BDeu score 4.\n",
        "        # “local_score_cv_general”: Generalized score with cross validation for data with single-dimensional variables 2.\n",
        "        # “local_score_marginal_general”: Generalized score with marginal likelihood for data with single-dimensional variables 2.\n",
        "        # “local_score_cv_multi”: Generalized score with cross validation for data with multi-dimensional variables 2.\n",
        "        # “local_score_marginal_multi”: Generalized score with marginal likelihood for data with multi-dimensional variables 2.\n",
        "    - maxP: The maximum number of parents for each variable. Default is 3.\n",
        "    - parameters: Additional custom parameters for the GES algorithm. Default is {\"kfold\": 5, \"lambda\": 0.1, \"dlabel\": None}.\n",
        "\n",
        "    Returns:\n",
        "    - Record: The result of the GES algorithm, including the learned causal graph.\n",
        "\n",
        "    Example usage:\n",
        "    data = ...  # Load your data here\n",
        "    Record = run_ges(data)\n",
        "    \"\"\"\n",
        "    Record = ges(data, score_func, maxP, parameters)\n",
        "\n",
        "    # Visualization using PyDot\n",
        "    pyd = GraphUtils.to_pydot(Record['G'], labels=header)\n",
        "    tmp_png = pyd.create_png(f=\"png\")\n",
        "    fp = io.BytesIO(tmp_png)\n",
        "    img = mpimg.imread(fp, format='png')\n",
        "    plt.axis('off')\n",
        "    plt.imshow(img)\n",
        "    plt.show()\n",
        "\n",
        "    # Alternatively, save the graph to a file\n",
        "    pyd.write_png('GES_test.png')\n",
        "\n",
        "    return Record"
      ]
    },
    {
      "cell_type": "code",
      "execution_count": null,
      "metadata": {
        "colab": {
          "base_uri": "https://localhost:8080/",
          "height": 406
        },
        "id": "iQK_oXPRG3XE",
        "outputId": "2abaa118-494d-469e-a802-12b0f37e97fa"
      },
      "outputs": [
        {
          "output_type": "display_data",
          "data": {
            "text/plain": [
              "<Figure size 640x480 with 1 Axes>"
            ],
            "image/png": "[encoded data removed]"
          },
          "metadata": {}
        }
      ],
      "source": [
        "#Parameters\n",
        "# score_func = \"local_score_BDeu\"\n",
        "score_func = \"local_score_BIC\"\n",
        "maxP = 5\n",
        "parameters = {\"kfold\": 5, \"lambda\": 0.1, \"dlabel\": None}\n",
        "\n",
        "\n",
        "# Run the GES algorithm\n",
        "Record = run_ges(data=data, score_func=score_func, maxP=maxP, parameters=parameters)\n",
        "\n",
        "\n",
        "# ‘cg.draw_pydot_graph(labels=[“A”, “B”, “C”])’\n",
        "# ‘GraphUtils.to_pydot(cg.G, labels=[“A”, “B”, “C”])’"
      ]
    },
    {
      "cell_type": "code",
      "source": [
        "# from causallearn.search.PermutationBased.GRaSP import grasp\n",
        "\n",
        "# # default parameters\n",
        "# # G = grasp(data)\n",
        "\n",
        "# score_func = \"local_score_BDeu\"\n",
        "# # score_func = \"local_score_BIC\"\n",
        "# maxP = 5\n",
        "# # parameters = {\"kfold\": 0, \"lambda\": 0.1, \"dlabel\": None}\n",
        "# depth = 10\n",
        "# # or customized parameters\n",
        "# G = grasp(data, score_func, depth, maxP)\n",
        "\n",
        "# # Visualization using pydot\n",
        "# from causallearn.utils.GraphUtils import GraphUtils\n",
        "# import matplotlib.image as mpimg\n",
        "# import matplotlib.pyplot as plt\n",
        "# import io\n",
        "\n",
        "# pyd = GraphUtils.to_pydot(G)\n",
        "# tmp_png = pyd.create_png(f=\"png\")\n",
        "# fp = io.BytesIO(tmp_png)\n",
        "# img = mpimg.imread(fp, format='png')\n",
        "# plt.axis('off')\n",
        "# plt.imshow(img)\n",
        "# plt.show()"
      ],
      "metadata": {
        "id": "BI4X6BbAlTcM"
      },
      "execution_count": 1,
      "outputs": []
    },
    {
      "cell_type": "code",
      "source": [
        "# Extract the learned causal graph\n",
        "learned_graph = Record['G']\n",
        "\n",
        "# Print or use the learned graph\n",
        "# print(learned_graph)\n",
        "\n",
        "# Define the path where the learned graph will be saved\n",
        "txt_file_path = 'GES_learned_graph.txt'\n",
        "\n",
        "# Save the learned graph to a text file in truth format\n",
        "with open(txt_file_path, 'w') as file:\n",
        "    file.write(str(learned_graph))\n",
        "\n",
        "# print(f'Learned graph saved to {txt_file_path}.')\n",
        "\n",
        "# # Define the path of the text file\n",
        "# txt_file_path = 'GES_learned_graph.txt'\n",
        "\n",
        "# Read the content of the text file\n",
        "with open(txt_file_path, 'r') as file:\n",
        "    graph_output = file.read()\n",
        "\n",
        "\n",
        "# Iterate through the header list and replace placeholders with variable names\n",
        "for i, head in enumerate(header):\n",
        "    graph_output = graph_output.replace(f'X{i+1}', head)\n",
        "\n",
        "# Save the modified content back to the same file\n",
        "with open(txt_file_path, 'w') as file:\n",
        "    file.write(graph_output)\n",
        "\n",
        "print(graph_output)\n",
        "print(f'Modified graph content saved back to {txt_file_path}.')\n"
      ],
      "metadata": {
        "colab": {
          "base_uri": "https://localhost:8080/"
        },
        "id": "uD0m125GoYEa",
        "outputId": "389d10fe-2f30-4c3e-8fc5-670e999d4f55"
      },
      "execution_count": null,
      "outputs": [
        {
          "output_type": "stream",
          "name": "stdout",
          "text": [
            "Graph Nodes:\n",
            "bandwidth;responsetime;visitors;observation_value;location_encoded\n",
            "\n",
            "Graph Edges:\n",
            "1. responsetime --> bandwidth\n",
            "2. visitors --> bandwidth\n",
            "3. observation_value --> bandwidth\n",
            "4. location_encoded --> bandwidth\n",
            "5. responsetime --- visitors\n",
            "6. responsetime --- observation_value\n",
            "7. responsetime --- location_encoded\n",
            "8. visitors --- location_encoded\n",
            "9. observation_value --- location_encoded\n",
            "\n",
            "Modified graph content saved back to GES_learned_graph.txt.\n"
          ]
        }
      ]
    },
    {
      "cell_type": "code",
      "source": [],
      "metadata": {
        "id": "c6C9HhffgpA5"
      },
      "execution_count": null,
      "outputs": []
    },
    {
      "cell_type": "markdown",
      "metadata": {
        "id": "z_qo1CH_YCRf"
      },
      "source": [
        "### Testing Conditional independence Test methods"
      ]
    },
    {
      "cell_type": "code",
      "execution_count": null,
      "metadata": {
        "colab": {
          "base_uri": "https://localhost:8080/"
        },
        "id": "J7_QAfeiYCRg",
        "outputId": "26f7687b-162f-43b1-ee3f-6aa6ac790de0"
      },
      "outputs": [
        {
          "output_type": "stream",
          "name": "stdout",
          "text": [
            "0.0\n"
          ]
        }
      ],
      "source": [
        "## Testing Conditional independence Test methods\n",
        "from causallearn.utils.cit import CIT\n",
        "mv_fisherz_obj = CIT(data, \"fisherz\") # construct a CIT instance with data and method name\n",
        "# “fisherz”, “chisq”, “gsq”, “kci”, “mv_fisherz”\n",
        "# pValue = mv_fisherz_obj(X, Y, S) # X, Y and condition_set : column indices of data\n",
        "pValue = mv_fisherz_obj(4, 3, [1, 2])\n",
        "print(pValue)\n"
      ]
    },
    {
      "cell_type": "code",
      "execution_count": null,
      "metadata": {
        "colab": {
          "base_uri": "https://localhost:8080/"
        },
        "id": "yPwBHLkHhG3w",
        "outputId": "e88f4c71-6bb4-4024-dad8-37a67f3ce825"
      },
      "outputs": [
        {
          "output_type": "stream",
          "name": "stdout",
          "text": [
            "[[17138.68218467]]\n"
          ]
        }
      ],
      "source": [
        "## Testing Score Functions\n",
        "# Local Score BIC\n",
        "from causallearn.score.LocalScoreFunction import local_score_BIC\n",
        "i = 3\n",
        "PAi = [4]\n",
        "parameters = {\"lambda_value\": 15}\n",
        "\n",
        "score = local_score_BIC(data, i, PAi, parameters=parameters)\n",
        "\n",
        "print(score)"
      ]
    },
    {
      "cell_type": "code",
      "execution_count": null,
      "metadata": {
        "colab": {
          "base_uri": "https://localhost:8080/"
        },
        "id": "8nsojnBBhG7P",
        "outputId": "7dc04268-5710-4633-c3be-a22e55d53e15"
      },
      "outputs": [
        {
          "output_type": "stream",
          "name": "stdout",
          "text": [
            "850981.5378683452\n"
          ]
        }
      ],
      "source": [
        "# Local Score BDEu\n",
        "from causallearn.score.LocalScoreFunction import local_score_BDeu\n",
        "\n",
        "i = 2\n",
        "PAi = [4]\n",
        "\n",
        "# Set the number of states for the random variables X_i and its parent variables\n",
        "r_i_map = {i: 2, 4: 3}  # Replace 2 and 3 with the actual number of states for X_i and X_4\n",
        "\n",
        "# Include the keys in the parameters dictionary with default values\n",
        "parameters = {\"sample_prior\": True, \"structure_prior\": 1.0, \"r_i_map\": r_i_map}\n",
        "\n",
        "score = local_score_BDeu(data, i, PAi, parameters)\n",
        "print(score)\n"
      ]
    },
    {
      "cell_type": "code",
      "execution_count": null,
      "metadata": {
        "id": "VsKSKqELoqhL"
      },
      "outputs": [],
      "source": [
        "# Local Score CV General\n",
        "from causallearn.score.LocalScoreFunction import local_score_cv_general\n",
        "\n",
        "# Replace Xi and PAi with the actual values\n",
        "Xi = 3\n",
        "PAi = [4]\n",
        "\n",
        "# Set the parameters\n",
        "parameters = {\"kfold\": 5, \"lambda\": 0.1}\n",
        "\n",
        "# Call the local_score_cv_general function\n",
        "score = local_score_cv_general(data, Xi, PAi, parameters)\n",
        "\n",
        "# Print the result\n",
        "print(score)\n"
      ]
    },
    {
      "cell_type": "markdown",
      "metadata": {
        "id": "fBu9axmfYCRh"
      },
      "source": [
        "### Testing Metrics\n",
        "##### Use only loading a ground-truth\n"
      ]
    },
    {
      "cell_type": "code",
      "execution_count": null,
      "metadata": {
        "colab": {
          "base_uri": "https://localhost:8080/"
        },
        "id": "lkfWcWght4Kz",
        "outputId": "0aeddf5b-957e-49f5-8a58-6a91eda09973"
      },
      "outputs": [
        {
          "output_type": "stream",
          "name": "stdout",
          "text": [
            "Now start test_pc_load_linear_10_with_fisher_z ...\n",
            "    pc(data, 0.05, fisherz)\tSHD: 13 of 30\n",
            "    pc(data, 0.05, fisherz)\tArrow Precision: 0.7241379310344828\n",
            "    pc(data, 0.05, fisherz)\tArrow Recall: 0.8076923076923077\n",
            "    pc(data, 0.05, fisherz)\tAdjacency Precision: 0.8620689655172413\n",
            "    pc(data, 0.05, fisherz)\tAdjacency Recall: 0.8333333333333334\n"
          ]
        }
      ],
      "source": [
        " # Load\n",
        "from causallearn.graph.ArrowConfusion import ArrowConfusion\n",
        "from causallearn.graph.AdjacencyConfusion import AdjacencyConfusion\n",
        "from causallearn.graph.SHD import SHD\n",
        "\n",
        "## Testing SHD against Truth Graph\n",
        "print('Now start test_pc_load_linear_10_with_fisher_z ...')\n",
        "truth_dag = load_truth_dag(truth_graph_path)\n",
        "truth_dag = txt2generalgraph(truth_graph_path) # truth_dag is a GeneralGraph instance\n",
        "truth_cpdag = dag2cpdag(truth_dag)\n",
        "num_edges_in_truth = truth_dag.get_num_edges()\n",
        "\n",
        "# Run PC with default parameters: stable=True, uc_rule=0 (uc_sepset), uc_priority=2 (prioritize existing colliders)\n",
        "# Record = run_ges(data)# Run PC and obtain the estimated graph (cg is CausalGraph object)\n",
        "# benchmark_returned_graph = np.loadtxt(\"tests/TestData/benchmark_returned_results/linear_10_pc_fisherz_0.05_stable_0_2.txt\")\n",
        "# assert np.all(cg.G.graph == benchmark_returned_graph), INCONSISTENT_RESULT_GRAPH_ERRMSG\n",
        "\n",
        "est = learned_graph\n",
        "\n",
        "# For arrows\n",
        "arrow = ArrowConfusion(truth_cpdag, est)\n",
        "\n",
        "arrowsTp = arrow.get_arrows_tp()\n",
        "arrowsFp = arrow.get_arrows_fp()\n",
        "arrowsFn = arrow.get_arrows_fn()\n",
        "arrowsTn = arrow.get_arrows_tn()\n",
        "\n",
        "arrowPrec = arrow.get_arrows_precision()\n",
        "arrowRec = arrow.get_arrows_recall()\n",
        "\n",
        "# For adjacency matrices\n",
        "adj = AdjacencyConfusion(truth_cpdag, est)\n",
        "\n",
        "adjTp = adj.get_adj_tp()\n",
        "adjFp = adj.get_adj_fp()\n",
        "adjFn = adj.get_adj_fn()\n",
        "adjTn = adj.get_adj_tn()\n",
        "\n",
        "adjPrec = adj.get_adj_precision()\n",
        "adjRec = adj.get_adj_recall()\n",
        "\n",
        "# Structural Hamming Distance\n",
        "shd = SHD(truth_cpdag, est)\n",
        "\n",
        "print(f\"    pc(data, 0.05, fisherz)\\tSHD: {shd.get_shd()} of {num_edges_in_truth}\")\n",
        "print(f\"    pc(data, 0.05, fisherz)\\tArrow Precision: {arrowPrec}\")\n",
        "print(f\"    pc(data, 0.05, fisherz)\\tArrow Recall: {arrowRec}\")\n",
        "print(f\"    pc(data, 0.05, fisherz)\\tAdjacency Precision: {adjPrec}\")\n",
        "print(f\"    pc(data, 0.05, fisherz)\\tAdjacency Recall: {adjRec}\")\n"
      ]
    },
    {
      "cell_type": "code",
      "execution_count": null,
      "metadata": {
        "id": "1pXMwjFJt5LW"
      },
      "outputs": [],
      "source": []
    },
    {
      "cell_type": "code",
      "execution_count": null,
      "metadata": {
        "id": "mk_6jAskt5OT"
      },
      "outputs": [],
      "source": []
    }
  ],
  "metadata": {
    "colab": {
      "provenance": [],
      "include_colab_link": true
    },
    "kernelspec": {
      "display_name": "Python 3",
      "name": "python3"
    },
    "language_info": {
      "name": "python"
    }
  },
  "nbformat": 4,
  "nbformat_minor": 0
}